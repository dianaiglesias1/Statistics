{
 "cells": [
  {
   "cell_type": "markdown",
   "id": "d42ebdeb",
   "metadata": {},
   "source": [
    "## S07 T01: Tasca dades, probabilitats i estadístiques"
   ]
  },
  {
   "cell_type": "markdown",
   "id": "162f4d61",
   "metadata": {},
   "source": [
    "### Exercici 1\n",
    "\n",
    "Agafa un conjunt de dades de tema esportiu que t'agradi i selecciona un atribut del conjunt de dades. Calcula la moda, la mediana, la desviació estàndard i la mitjana aritmètica. "
   ]
  },
  {
   "cell_type": "code",
   "execution_count": 1,
   "id": "c4b972ab",
   "metadata": {},
   "outputs": [],
   "source": [
    "import pandas as pd\n",
    "import numpy as np\n",
    "import matplotlib.pyplot as plt\n",
    "import seaborn as sns"
   ]
  },
  {
   "cell_type": "code",
   "execution_count": 5,
   "id": "2a9c7006",
   "metadata": {},
   "outputs": [],
   "source": [
    "data=pd.read_csv('/Users/Diana/Downloads/athlete_events.csv')"
   ]
  },
  {
   "cell_type": "code",
   "execution_count": 7,
   "id": "28a7e545",
   "metadata": {},
   "outputs": [],
   "source": [
    "data=data.dropna()"
   ]
  },
  {
   "cell_type": "code",
   "execution_count": 14,
   "id": "ffa6838d",
   "metadata": {},
   "outputs": [
    {
     "data": {
      "text/html": [
       "<div>\n",
       "<style scoped>\n",
       "    .dataframe tbody tr th:only-of-type {\n",
       "        vertical-align: middle;\n",
       "    }\n",
       "\n",
       "    .dataframe tbody tr th {\n",
       "        vertical-align: top;\n",
       "    }\n",
       "\n",
       "    .dataframe thead th {\n",
       "        text-align: right;\n",
       "    }\n",
       "</style>\n",
       "<table border=\"1\" class=\"dataframe\">\n",
       "  <thead>\n",
       "    <tr style=\"text-align: right;\">\n",
       "      <th></th>\n",
       "      <th>ID</th>\n",
       "      <th>Name</th>\n",
       "      <th>Sex</th>\n",
       "      <th>Age</th>\n",
       "      <th>Height</th>\n",
       "      <th>Weight</th>\n",
       "      <th>Team</th>\n",
       "      <th>NOC</th>\n",
       "      <th>Games</th>\n",
       "      <th>Year</th>\n",
       "      <th>Season</th>\n",
       "      <th>City</th>\n",
       "      <th>Sport</th>\n",
       "      <th>Event</th>\n",
       "      <th>Medal</th>\n",
       "    </tr>\n",
       "  </thead>\n",
       "  <tbody>\n",
       "    <tr>\n",
       "      <th>609</th>\n",
       "      <td>351</td>\n",
       "      <td>Julius Shareef Abdur-Rahim</td>\n",
       "      <td>M</td>\n",
       "      <td>23.0</td>\n",
       "      <td>202.0</td>\n",
       "      <td>104.0</td>\n",
       "      <td>United States</td>\n",
       "      <td>USA</td>\n",
       "      <td>2000 Summer</td>\n",
       "      <td>2000</td>\n",
       "      <td>Summer</td>\n",
       "      <td>Sydney</td>\n",
       "      <td>Basketball</td>\n",
       "      <td>Basketball Men's Basketball</td>\n",
       "      <td>Gold</td>\n",
       "    </tr>\n",
       "    <tr>\n",
       "      <th>1029</th>\n",
       "      <td>576</td>\n",
       "      <td>Alejandro \"lex\" Abrines Redondo</td>\n",
       "      <td>M</td>\n",
       "      <td>23.0</td>\n",
       "      <td>198.0</td>\n",
       "      <td>93.0</td>\n",
       "      <td>Spain</td>\n",
       "      <td>ESP</td>\n",
       "      <td>2016 Summer</td>\n",
       "      <td>2016</td>\n",
       "      <td>Summer</td>\n",
       "      <td>Rio de Janeiro</td>\n",
       "      <td>Basketball</td>\n",
       "      <td>Basketball Men's Basketball</td>\n",
       "      <td>Bronze</td>\n",
       "    </tr>\n",
       "    <tr>\n",
       "      <th>1035</th>\n",
       "      <td>580</td>\n",
       "      <td>Svetlana Olegovna Abrosimova</td>\n",
       "      <td>F</td>\n",
       "      <td>28.0</td>\n",
       "      <td>188.0</td>\n",
       "      <td>77.0</td>\n",
       "      <td>Russia</td>\n",
       "      <td>RUS</td>\n",
       "      <td>2008 Summer</td>\n",
       "      <td>2008</td>\n",
       "      <td>Summer</td>\n",
       "      <td>Beijing</td>\n",
       "      <td>Basketball</td>\n",
       "      <td>Basketball Women's Basketball</td>\n",
       "      <td>Bronze</td>\n",
       "    </tr>\n",
       "    <tr>\n",
       "      <th>1807</th>\n",
       "      <td>1000</td>\n",
       "      <td>Dainius Adomaitis</td>\n",
       "      <td>M</td>\n",
       "      <td>26.0</td>\n",
       "      <td>202.0</td>\n",
       "      <td>100.0</td>\n",
       "      <td>Lithuania</td>\n",
       "      <td>LTU</td>\n",
       "      <td>2000 Summer</td>\n",
       "      <td>2000</td>\n",
       "      <td>Summer</td>\n",
       "      <td>Sydney</td>\n",
       "      <td>Basketball</td>\n",
       "      <td>Basketball Men's Basketball</td>\n",
       "      <td>Bronze</td>\n",
       "    </tr>\n",
       "    <tr>\n",
       "      <th>1856</th>\n",
       "      <td>1020</td>\n",
       "      <td>Adriana Aparecida dos Santos</td>\n",
       "      <td>F</td>\n",
       "      <td>25.0</td>\n",
       "      <td>180.0</td>\n",
       "      <td>61.0</td>\n",
       "      <td>Brazil</td>\n",
       "      <td>BRA</td>\n",
       "      <td>1996 Summer</td>\n",
       "      <td>1996</td>\n",
       "      <td>Summer</td>\n",
       "      <td>Atlanta</td>\n",
       "      <td>Basketball</td>\n",
       "      <td>Basketball Women's Basketball</td>\n",
       "      <td>Silver</td>\n",
       "    </tr>\n",
       "  </tbody>\n",
       "</table>\n",
       "</div>"
      ],
      "text/plain": [
       "        ID                             Name Sex   Age  Height  Weight  \\\n",
       "609    351       Julius Shareef Abdur-Rahim   M  23.0   202.0   104.0   \n",
       "1029   576  Alejandro \"lex\" Abrines Redondo   M  23.0   198.0    93.0   \n",
       "1035   580     Svetlana Olegovna Abrosimova   F  28.0   188.0    77.0   \n",
       "1807  1000                Dainius Adomaitis   M  26.0   202.0   100.0   \n",
       "1856  1020     Adriana Aparecida dos Santos   F  25.0   180.0    61.0   \n",
       "\n",
       "               Team  NOC        Games  Year  Season            City  \\\n",
       "609   United States  USA  2000 Summer  2000  Summer          Sydney   \n",
       "1029          Spain  ESP  2016 Summer  2016  Summer  Rio de Janeiro   \n",
       "1035         Russia  RUS  2008 Summer  2008  Summer         Beijing   \n",
       "1807      Lithuania  LTU  2000 Summer  2000  Summer          Sydney   \n",
       "1856         Brazil  BRA  1996 Summer  1996  Summer         Atlanta   \n",
       "\n",
       "           Sport                          Event   Medal  \n",
       "609   Basketball    Basketball Men's Basketball    Gold  \n",
       "1029  Basketball    Basketball Men's Basketball  Bronze  \n",
       "1035  Basketball  Basketball Women's Basketball  Bronze  \n",
       "1807  Basketball    Basketball Men's Basketball  Bronze  \n",
       "1856  Basketball  Basketball Women's Basketball  Silver  "
      ]
     },
     "execution_count": 14,
     "metadata": {},
     "output_type": "execute_result"
    }
   ],
   "source": [
    "#I will select Basketball\n",
    "\n",
    "basket=data[(data.Sport == 'Basketball')]\n",
    "basket.head()"
   ]
  },
  {
   "cell_type": "code",
   "execution_count": 15,
   "id": "edf46c2e",
   "metadata": {},
   "outputs": [
    {
     "data": {
      "text/plain": [
       "(1000, 15)"
      ]
     },
     "execution_count": 15,
     "metadata": {},
     "output_type": "execute_result"
    }
   ],
   "source": [
    "basket.shape"
   ]
  },
  {
   "cell_type": "code",
   "execution_count": 16,
   "id": "f3a55811",
   "metadata": {},
   "outputs": [
    {
     "data": {
      "text/plain": [
       "192.153"
      ]
     },
     "execution_count": 16,
     "metadata": {},
     "output_type": "execute_result"
    }
   ],
   "source": [
    "#Mean, median, mode, and standard deviation will be calculated for the variable 'Height'\n",
    "\n",
    "#mean\n",
    "\n",
    "basket['Height'].mean()"
   ]
  },
  {
   "cell_type": "code",
   "execution_count": 17,
   "id": "c653bf60",
   "metadata": {},
   "outputs": [
    {
     "data": {
      "text/plain": [
       "192.0"
      ]
     },
     "execution_count": 17,
     "metadata": {},
     "output_type": "execute_result"
    }
   ],
   "source": [
    "#median\n",
    "\n",
    "basket['Height'].median()"
   ]
  },
  {
   "cell_type": "code",
   "execution_count": 18,
   "id": "3213fad7",
   "metadata": {},
   "outputs": [
    {
     "data": {
      "text/plain": [
       "0    190.0\n",
       "dtype: float64"
      ]
     },
     "execution_count": 18,
     "metadata": {},
     "output_type": "execute_result"
    }
   ],
   "source": [
    "#mode\n",
    "\n",
    "basket['Height'].mode()"
   ]
  },
  {
   "cell_type": "code",
   "execution_count": 23,
   "id": "9e2a9ee8",
   "metadata": {},
   "outputs": [
    {
     "data": {
      "text/plain": [
       "12.106203003053897"
      ]
     },
     "execution_count": 23,
     "metadata": {},
     "output_type": "execute_result"
    }
   ],
   "source": [
    "#standard deviation\n",
    "\n",
    "basket['Height'].std()"
   ]
  },
  {
   "cell_type": "code",
   "execution_count": 21,
   "id": "fa7ccad8",
   "metadata": {},
   "outputs": [
    {
     "data": {
      "text/html": [
       "<div>\n",
       "<style scoped>\n",
       "    .dataframe tbody tr th:only-of-type {\n",
       "        vertical-align: middle;\n",
       "    }\n",
       "\n",
       "    .dataframe tbody tr th {\n",
       "        vertical-align: top;\n",
       "    }\n",
       "\n",
       "    .dataframe thead th {\n",
       "        text-align: right;\n",
       "    }\n",
       "</style>\n",
       "<table border=\"1\" class=\"dataframe\">\n",
       "  <thead>\n",
       "    <tr style=\"text-align: right;\">\n",
       "      <th></th>\n",
       "      <th>ID</th>\n",
       "      <th>Age</th>\n",
       "      <th>Height</th>\n",
       "      <th>Weight</th>\n",
       "      <th>Year</th>\n",
       "    </tr>\n",
       "  </thead>\n",
       "  <tbody>\n",
       "    <tr>\n",
       "      <th>count</th>\n",
       "      <td>1000.00</td>\n",
       "      <td>1000.00</td>\n",
       "      <td>1000.00</td>\n",
       "      <td>1000.00</td>\n",
       "      <td>1000.00</td>\n",
       "    </tr>\n",
       "    <tr>\n",
       "      <th>mean</th>\n",
       "      <td>67577.45</td>\n",
       "      <td>25.30</td>\n",
       "      <td>192.15</td>\n",
       "      <td>86.69</td>\n",
       "      <td>1988.26</td>\n",
       "    </tr>\n",
       "    <tr>\n",
       "      <th>std</th>\n",
       "      <td>39388.12</td>\n",
       "      <td>3.94</td>\n",
       "      <td>12.11</td>\n",
       "      <td>15.70</td>\n",
       "      <td>19.19</td>\n",
       "    </tr>\n",
       "    <tr>\n",
       "      <th>min</th>\n",
       "      <td>351.00</td>\n",
       "      <td>17.00</td>\n",
       "      <td>162.00</td>\n",
       "      <td>50.00</td>\n",
       "      <td>1936.00</td>\n",
       "    </tr>\n",
       "    <tr>\n",
       "      <th>25%</th>\n",
       "      <td>31342.75</td>\n",
       "      <td>22.00</td>\n",
       "      <td>183.00</td>\n",
       "      <td>75.00</td>\n",
       "      <td>1976.00</td>\n",
       "    </tr>\n",
       "    <tr>\n",
       "      <th>50%</th>\n",
       "      <td>68985.00</td>\n",
       "      <td>25.00</td>\n",
       "      <td>192.00</td>\n",
       "      <td>86.00</td>\n",
       "      <td>1988.00</td>\n",
       "    </tr>\n",
       "    <tr>\n",
       "      <th>75%</th>\n",
       "      <td>101450.50</td>\n",
       "      <td>28.00</td>\n",
       "      <td>201.00</td>\n",
       "      <td>97.00</td>\n",
       "      <td>2004.00</td>\n",
       "    </tr>\n",
       "    <tr>\n",
       "      <th>max</th>\n",
       "      <td>135402.00</td>\n",
       "      <td>37.00</td>\n",
       "      <td>223.00</td>\n",
       "      <td>141.00</td>\n",
       "      <td>2016.00</td>\n",
       "    </tr>\n",
       "  </tbody>\n",
       "</table>\n",
       "</div>"
      ],
      "text/plain": [
       "              ID      Age   Height   Weight     Year\n",
       "count    1000.00  1000.00  1000.00  1000.00  1000.00\n",
       "mean    67577.45    25.30   192.15    86.69  1988.26\n",
       "std     39388.12     3.94    12.11    15.70    19.19\n",
       "min       351.00    17.00   162.00    50.00  1936.00\n",
       "25%     31342.75    22.00   183.00    75.00  1976.00\n",
       "50%     68985.00    25.00   192.00    86.00  1988.00\n",
       "75%    101450.50    28.00   201.00    97.00  2004.00\n",
       "max    135402.00    37.00   223.00   141.00  2016.00"
      ]
     },
     "execution_count": 21,
     "metadata": {},
     "output_type": "execute_result"
    }
   ],
   "source": [
    "basket.describe().round(2)"
   ]
  },
  {
   "cell_type": "code",
   "execution_count": 26,
   "id": "3cf31e96",
   "metadata": {},
   "outputs": [
    {
     "data": {
      "image/png": "[encoded data removed]",
      "text/plain": [
       "<Figure size 432x288 with 1 Axes>"
      ]
     },
     "metadata": {
      "needs_background": "light"
     },
     "output_type": "display_data"
    }
   ],
   "source": [
    "sns.boxplot(x=basket['Height'], color='lightgreen', fliersize=3, linewidth=1 , width=.3)\n",
    "plt.title('Box Plot of Height in Basketball')\n",
    "plt.xlabel('Height in cms')\n",
    "plt.show()"
   ]
  },
  {
   "cell_type": "markdown",
   "id": "8987d33f",
   "metadata": {},
   "source": [
    "We have represented some of the statistical values in this Boxplot. As we can see the mean is 192 cms."
   ]
  },
  {
   "cell_type": "markdown",
   "id": "6ae1788c",
   "metadata": {},
   "source": [
    "### Exercici 2\n",
    "\n",
    "Continuant amb les dades de tema esportiu, selecciona dos atributs i calcula'n la seva correlació. "
   ]
  },
  {
   "cell_type": "code",
   "execution_count": 30,
   "id": "3bb4556b",
   "metadata": {},
   "outputs": [
    {
     "data": {
      "text/plain": [
       "-0.0743"
      ]
     },
     "execution_count": 30,
     "metadata": {},
     "output_type": "execute_result"
    }
   ],
   "source": [
    "#I will choose age and height\n",
    "\n",
    "x=basket.Age\n",
    "y=basket.Height\n",
    "\n",
    "#Pearson's correlation:\n",
    "\n",
    "x.corr(y).round(4)"
   ]
  },
  {
   "cell_type": "markdown",
   "id": "c8ad2dba",
   "metadata": {},
   "source": [
    "We can say that there is a negative correlation between these two variables. As age increases, height doesn't."
   ]
  },
  {
   "cell_type": "code",
   "execution_count": 39,
   "id": "b4e84a77",
   "metadata": {},
   "outputs": [
    {
     "data": {
      "image/png": "[encoded data removed]",
      "text/plain": [
       "<Figure size 432x288 with 1 Axes>"
      ]
     },
     "metadata": {},
     "output_type": "display_data"
    }
   ],
   "source": [
    "#Let's plot it: \n",
    "\n",
    "sns.set_style('dark')\n",
    "\n",
    "chart=sns.scatterplot(x='Age', y='Height', color='indigo', data=basket)\n",
    "\n",
    "plt.xlim(16, 39)\n",
    "plt.ylim(150, 260)\n",
    "plt.title('Age and Height relation in basketball players', loc='center', size=14, fontweight=\"bold\")\n",
    "plt.xticks(fontsize=12)\n",
    "plt.yticks(fontsize=12) \n",
    "plt.xlabel('Age', size=14)\n",
    "plt.ylabel('Height', size=14)\n",
    "plt.show()"
   ]
  },
  {
   "cell_type": "markdown",
   "id": "7b97792d",
   "metadata": {},
   "source": [
    "As it is shown in the plot, no positive correlation at all."
   ]
  },
  {
   "cell_type": "markdown",
   "id": "d38be9f4",
   "metadata": {},
   "source": [
    "### Exercici 3\n",
    "\n",
    "Continuant amb les dades de tema esportiu, calcula la correlació de tots els atributs entre sí i representa'ls en una matriu amb diferents colors d'intensitat."
   ]
  },
  {
   "cell_type": "code",
   "execution_count": 40,
   "id": "886c5edc",
   "metadata": {},
   "outputs": [
    {
     "data": {
      "text/html": [
       "<div>\n",
       "<style scoped>\n",
       "    .dataframe tbody tr th:only-of-type {\n",
       "        vertical-align: middle;\n",
       "    }\n",
       "\n",
       "    .dataframe tbody tr th {\n",
       "        vertical-align: top;\n",
       "    }\n",
       "\n",
       "    .dataframe thead th {\n",
       "        text-align: right;\n",
       "    }\n",
       "</style>\n",
       "<table border=\"1\" class=\"dataframe\">\n",
       "  <thead>\n",
       "    <tr style=\"text-align: right;\">\n",
       "      <th></th>\n",
       "      <th>ID</th>\n",
       "      <th>Age</th>\n",
       "      <th>Height</th>\n",
       "      <th>Weight</th>\n",
       "      <th>Year</th>\n",
       "    </tr>\n",
       "  </thead>\n",
       "  <tbody>\n",
       "    <tr>\n",
       "      <th>ID</th>\n",
       "      <td>1.00</td>\n",
       "      <td>-0.02</td>\n",
       "      <td>0.01</td>\n",
       "      <td>0.01</td>\n",
       "      <td>-0.02</td>\n",
       "    </tr>\n",
       "    <tr>\n",
       "      <th>Age</th>\n",
       "      <td>-0.02</td>\n",
       "      <td>1.00</td>\n",
       "      <td>-0.07</td>\n",
       "      <td>-0.02</td>\n",
       "      <td>0.35</td>\n",
       "    </tr>\n",
       "    <tr>\n",
       "      <th>Height</th>\n",
       "      <td>0.01</td>\n",
       "      <td>-0.07</td>\n",
       "      <td>1.00</td>\n",
       "      <td>0.88</td>\n",
       "      <td>0.02</td>\n",
       "    </tr>\n",
       "    <tr>\n",
       "      <th>Weight</th>\n",
       "      <td>0.01</td>\n",
       "      <td>-0.02</td>\n",
       "      <td>0.88</td>\n",
       "      <td>1.00</td>\n",
       "      <td>0.01</td>\n",
       "    </tr>\n",
       "    <tr>\n",
       "      <th>Year</th>\n",
       "      <td>-0.02</td>\n",
       "      <td>0.35</td>\n",
       "      <td>0.02</td>\n",
       "      <td>0.01</td>\n",
       "      <td>1.00</td>\n",
       "    </tr>\n",
       "  </tbody>\n",
       "</table>\n",
       "</div>"
      ],
      "text/plain": [
       "          ID   Age  Height  Weight  Year\n",
       "ID      1.00 -0.02    0.01    0.01 -0.02\n",
       "Age    -0.02  1.00   -0.07   -0.02  0.35\n",
       "Height  0.01 -0.07    1.00    0.88  0.02\n",
       "Weight  0.01 -0.02    0.88    1.00  0.01\n",
       "Year   -0.02  0.35    0.02    0.01  1.00"
      ]
     },
     "execution_count": 40,
     "metadata": {},
     "output_type": "execute_result"
    }
   ],
   "source": [
    "corr = basket.corr().round(2)\n",
    "corr"
   ]
  },
  {
   "cell_type": "code",
   "execution_count": 45,
   "id": "f50af1f2",
   "metadata": {},
   "outputs": [
    {
     "data": {
      "text/plain": [
       "<AxesSubplot:>"
      ]
     },
     "execution_count": 45,
     "metadata": {},
     "output_type": "execute_result"
    },
    {
     "data": {
      "image/png": "[encoded data removed]",
      "text/plain": [
       "<Figure size 432x288 with 2 Axes>"
      ]
     },
     "metadata": {},
     "output_type": "display_data"
    }
   ],
   "source": [
    "sns.heatmap(basket.corr(), annot=True, cmap='YlGnBu')"
   ]
  },
  {
   "cell_type": "markdown",
   "id": "e0c57786",
   "metadata": {},
   "source": [
    "We can see positive correlations with Height and Weight and negative with Age and Height and Age and Weight."
   ]
  },
  {
   "cell_type": "markdown",
   "id": "afb354fc",
   "metadata": {},
   "source": [
    "### Exercici 4\n",
    "\n",
    "Continuant amb les dades de tema esportiu, selecciona un atribut i calcula la mitjana geomètrica i la mitjana harmònica."
   ]
  },
  {
   "cell_type": "code",
   "execution_count": 52,
   "id": "0a905964",
   "metadata": {},
   "outputs": [
    {
     "name": "stdout",
     "output_type": "stream",
     "text": [
      "The geometric mean is 85.28\n"
     ]
    }
   ],
   "source": [
    "#I will choose Weight to calculate:\n",
    "\n",
    "#geometric mean:\n",
    "\n",
    "from scipy import stats\n",
    "print('The geometric mean is',stats.gmean(basket.Weight).round(2))"
   ]
  },
  {
   "cell_type": "code",
   "execution_count": 53,
   "id": "0e22cd2d",
   "metadata": {},
   "outputs": [
    {
     "name": "stdout",
     "output_type": "stream",
     "text": [
      "The harmonic mean is 83.88\n"
     ]
    }
   ],
   "source": [
    "#harmonic mean\n",
    "\n",
    "print('The harmonic mean is', stats.hmean(basket.Weight).round(2))"
   ]
  }
 ],
 "metadata": {
  "kernelspec": {
   "display_name": "Python 3 (ipykernel)",
   "language": "python",
   "name": "python3"
  },
  "language_info": {
   "codemirror_mode": {
    "name": "ipython",
    "version": 3
   },
   "file_extension": ".py",
   "mimetype": "text/x-python",
   "name": "python",
   "nbconvert_exporter": "python",
   "pygments_lexer": "ipython3",
   "version": "3.8.8"
  }
 },
 "nbformat": 4,
 "nbformat_minor": 5
}
